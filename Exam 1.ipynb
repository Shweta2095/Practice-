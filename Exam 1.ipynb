{
 "cells": [
  {
   "cell_type": "code",
   "execution_count": 124,
   "id": "129ecbd4",
   "metadata": {},
   "outputs": [],
   "source": [
    "import numpy as np\n",
    "import pandas as pd  # type: ignore\n",
    "import matplotlib.pyplot as plt # type: ignore\n",
    "import pymc as pm   # type: ignore\n",
    "import arviz as az   # type: ignore\n"
   ]
  },
  {
   "cell_type": "code",
   "execution_count": null,
   "id": "d99de69a",
   "metadata": {},
   "outputs": [],
   "source": [
    "# ### Exercise 1 (max 3 points)\n",
    "#\n",
    "# The file [pigs.csv](./pigs.csv) (Koen, Erin, Newton, Erica, & Ellington, E. Hance. (2022). Data for: Evaluating potential sources of invasive wild pigs in Ontario. https://doi.org/10.5061/dryad.5dv41ns6j) contains data about a population of pigs.\n",
    "#\n",
    "# The columns have this meaning:\n",
    "#\n",
    "#  - PigType - type of pig sighting (domesticated, wild boar, unknown)\n",
    "#  - DETECTED - 0 - random location, 1 - pig sighting\n",
    "#  - dist_boar - distance (meters) to nearest known premise with wild boar (meters)\n",
    "#  - dist_pig - distance (meters) to nearest known premise with domestic pig (meters)\n",
    "#  - borderMI - distance (meters) to border with Michigan (excluding the upper peninsula)\n",
    "#  - borderNY - distance (meters) to border with New York (meters)\n",
    "#  - borderQC - distance (meters) to border with Quebec\n",
    "#\n",
    "#\n",
    "# Load the data in a pandas dataframe and make a `bool` column `pig_sighting` which is `True` iff the pig was detected from a pig sighting site. Use the first column as index."
   ]
  },
  {
   "cell_type": "code",
   "execution_count": 8,
   "id": "cf0fadca",
   "metadata": {},
   "outputs": [],
   "source": [
    "import pandas as pd\n",
    "data = pd.read_csv('pigs.csv',index_col=[0])\n"
   ]
  },
  {
   "cell_type": "code",
   "execution_count": 10,
   "id": "27371bba",
   "metadata": {},
   "outputs": [],
   "source": [
    "data['pig_sighting'] = np.where(data['DETECTED'] ==1, True, False)\n"
   ]
  },
  {
   "cell_type": "code",
   "execution_count": null,
   "id": "60af8041",
   "metadata": {},
   "outputs": [],
   "source": [
    "# ### Exercise 2 (max 4 points)\n",
    "#\n",
    "# Make a figure with the three histograms of the distances from the borders. Add a proper title and a legend.\n",
    "#"
   ]
  },
  {
   "cell_type": "code",
   "execution_count": 56,
   "id": "11ddde98",
   "metadata": {},
   "outputs": [
    {
     "data": {
      "image/png": "[encoded data removed]",
      "text/plain": [
       "<Figure size 640x480 with 1 Axes>"
      ]
     },
     "metadata": {},
     "output_type": "display_data"
    }
   ],
   "source": [
    "plt.hist(data['borderMI'], label='Michigan', alpha=0.5, color= 'coral', bins=20) #alpha transparency\n",
    "plt.hist(data['borderNY'], label='New York', color='mediumslateblue', bins=20, alpha=0.3)\n",
    "plt.hist(data['borderQC'], label='Quebec', color='khaki', bins=20, alpha=0.5)\n",
    "plt.legend()\n",
    "\n",
    "plt.xlabel('Borders')\n",
    "plt.ylabel('Distance(meters)')\n",
    "plt.title('Distances from borders')\n",
    "plt.show()\n"
   ]
  },
  {
   "cell_type": "code",
   "execution_count": null,
   "id": "1b807350",
   "metadata": {},
   "outputs": [],
   "source": [
    "# ### Exercise 3 (max 7 points)\n",
    "#\n",
    "# Define a function `area` that takes the length of three radii (in **meters**) and computes the area (in square **kilometers**) of the circle with the maximum radius. For example if the three radii are 1000.0, 2000.0, and 3000.0 meters long, the area is  $9\\pi$ square kilometers.\n",
    "#\n",
    "# To get the full marks, you should declare correctly the type hints and add a test within a doctest string."
   ]
  },
  {
   "cell_type": "code",
   "execution_count": 29,
   "id": "f393600a",
   "metadata": {},
   "outputs": [],
   "source": [
    "import math \n",
    "from typing import Tuple #for typehints and docstring\n",
    "\n",
    "def area(a,b,c):\n",
    "    \n",
    "    \"\"\"This function calculates the area of the circle with the maximum radius.\n",
    "\n",
    "    >>> area(1000.0, 2000.0, 3000.0)\n",
    "    '28.27 square kilometers'\n",
    "\n",
    "    :param a: float, radius in meters\n",
    "    :param b: float, radius in meters\n",
    "    :param c: float, radius in meters\n",
    "    :return: str, area in square kilometers, rounded to 2 decimal places\n",
    "    \n",
    "    \"\"\"\n",
    "    area_a=math.pi*a*a\n",
    "    area_b=math.pi*b*b\n",
    "    area_c=math.pi*c*c\n",
    "    \n",
    "    max_area= max(area_a,area_b,area_c)\n",
    "    return f'{max_area/10**6:.2f} square kilometers'"
   ]
  },
  {
   "cell_type": "code",
   "execution_count": null,
   "id": "8f6fa628",
   "metadata": {},
   "outputs": [],
   "source": [
    "# ### Exercise 4 (max 4 points)\n",
    "#\n",
    "# Add a column to the data with the `area` computed in the previous exercise, where the three radius are the distances from the border of Michigan, New York, and Quebec.\n",
    "#\n",
    "# To get the full marks avoid the use of explicit loops."
   ]
  },
  {
   "cell_type": "code",
   "execution_count": 30,
   "id": "c6da42e9",
   "metadata": {},
   "outputs": [],
   "source": [
    "data['area'] = data.apply(lambda x: area(x['borderMI'], x['borderNY'], x['borderQC']), axis=1)\n"
   ]
  },
  {
   "cell_type": "code",
   "execution_count": null,
   "id": "f6e7151a",
   "metadata": {},
   "outputs": [],
   "source": [
    "# ### Exercise 5 (max 4 points)\n",
    "#\n",
    "# Print the mean `dist_boar` and the mean `dist_pig` for wild boars and domesticated detected in pig sighting sites. All domesticated (pot bellied or not) pigs should be considered together."
   ]
  },
  {
   "cell_type": "code",
   "execution_count": 42,
   "id": "04471dbc",
   "metadata": {},
   "outputs": [
    {
     "name": "stdout",
     "output_type": "stream",
     "text": [
      "16259.398918565988\n",
      "2959.3232887929953\n"
     ]
    }
   ],
   "source": [
    "mean_dist_boar = data[(data['PigType'] == 'wild boar') & (data['pig_sighting'] == True)]['dist_boar'].mean()\n",
    "mean_dist_pig = data[(data['PigType'].isin(['domesticated', 'domesticated - pot bellied'])) & (data['pig_sighting'] == True)]['dist_pig'].mean()\n",
    "\n",
    "\n",
    "print (mean_dist_boar)\n",
    "print (mean_dist_pig)\n"
   ]
  },
  {
   "cell_type": "code",
   "execution_count": null,
   "id": "d7acb10b",
   "metadata": {},
   "outputs": [],
   "source": [
    "\n",
    "# ### Exercise 6 (max 3 points)\n",
    "#\n",
    "# Make a scatter plot of `dist_boar` vs. `dist_pig`. Pigs detected in a pig sighting site should appear in red, the others in blue."
   ]
  },
  {
   "cell_type": "code",
   "execution_count": 52,
   "id": "e7e4a645",
   "metadata": {},
   "outputs": [
    {
     "data": {
      "image/png": "[encoded data removed]",
      "text/plain": [
       "<Figure size 640x480 with 1 Axes>"
      ]
     },
     "metadata": {},
     "output_type": "display_data"
    }
   ],
   "source": [
    "fig, ax = plt.subplots()\n",
    "\n",
    "colors = {True:'red', False:'blue'}\n",
    "\n",
    "          \n",
    "grouped = data.groupby('pig_sighting')\n",
    "for key, group in grouped:\n",
    "    group.plot(ax=ax, kind='scatter', x='dist_pig', y='dist_boar', label=key, c=colors[key])\n",
    "\n",
    "plt.show()"
   ]
  },
  {
   "cell_type": "code",
   "execution_count": null,
   "id": "959e013f",
   "metadata": {},
   "outputs": [],
   "source": [
    "# ### Exercise 7 (max 3 points)\n",
    "#\n",
    "# Sample 5 pigs among the \"wild boars\" and print, in ascending order of `dist_pig`, their `borderMI`."
   ]
  },
  {
   "cell_type": "code",
   "execution_count": 122,
   "id": "ee27eb0b",
   "metadata": {},
   "outputs": [
    {
     "data": {
      "text/html": [
       "<div>\n",
       "<style scoped>\n",
       "    .dataframe tbody tr th:only-of-type {\n",
       "        vertical-align: middle;\n",
       "    }\n",
       "\n",
       "    .dataframe tbody tr th {\n",
       "        vertical-align: top;\n",
       "    }\n",
       "\n",
       "    .dataframe thead th {\n",
       "        text-align: right;\n",
       "    }\n",
       "</style>\n",
       "<table border=\"1\" class=\"dataframe\">\n",
       "  <thead>\n",
       "    <tr style=\"text-align: right;\">\n",
       "      <th></th>\n",
       "      <th>PigType</th>\n",
       "      <th>dist_pig</th>\n",
       "      <th>borderMI</th>\n",
       "    </tr>\n",
       "  </thead>\n",
       "  <tbody>\n",
       "    <tr>\n",
       "      <th>235</th>\n",
       "      <td>wild boar</td>\n",
       "      <td>1708.267864</td>\n",
       "      <td>708940.155618</td>\n",
       "    </tr>\n",
       "    <tr>\n",
       "      <th>26</th>\n",
       "      <td>wild boar</td>\n",
       "      <td>3274.644168</td>\n",
       "      <td>668750.109500</td>\n",
       "    </tr>\n",
       "    <tr>\n",
       "      <th>164</th>\n",
       "      <td>wild boar</td>\n",
       "      <td>3560.692879</td>\n",
       "      <td>265858.421119</td>\n",
       "    </tr>\n",
       "    <tr>\n",
       "      <th>61</th>\n",
       "      <td>wild boar</td>\n",
       "      <td>4877.404607</td>\n",
       "      <td>163016.867315</td>\n",
       "    </tr>\n",
       "    <tr>\n",
       "      <th>234</th>\n",
       "      <td>wild boar</td>\n",
       "      <td>5600.046866</td>\n",
       "      <td>231993.314387</td>\n",
       "    </tr>\n",
       "  </tbody>\n",
       "</table>\n",
       "</div>"
      ],
      "text/plain": [
       "       PigType     dist_pig       borderMI\n",
       "235  wild boar  1708.267864  708940.155618\n",
       "26   wild boar  3274.644168  668750.109500\n",
       "164  wild boar  3560.692879  265858.421119\n",
       "61   wild boar  4877.404607  163016.867315\n",
       "234  wild boar  5600.046866  231993.314387"
      ]
     },
     "execution_count": 122,
     "metadata": {},
     "output_type": "execute_result"
    }
   ],
   "source": [
    "data2 = data[data['PigType'] == 'wild boar'].sample(n=5).sort_values(by='dist_pig')\n",
    "data2[['PigType', 'dist_pig', 'borderMI']]\n"
   ]
  },
  {
   "cell_type": "code",
   "execution_count": null,
   "id": "156c3c0a",
   "metadata": {},
   "outputs": [],
   "source": [
    "# ### Exercise 8 (max 5 points)\n",
    "#\n",
    "# Consider this statistical model:\n",
    "#\n",
    "#\n",
    "# - the `borderQC` distance for wild boars is normally distributed with mean $\\mu$ and standard deviation $\\sigma$\n",
    "# - $\\mu$ is normally distributed with mean $=170000$ and standard deviation $=100000$\n",
    "# - $\\sigma$ is exponentially distributed with $\\lambda = 1$\n",
    "#\n",
    "# Code this model with pymc, sample the model, and print the summary of the resulting estimation by using `az.summary`.\n",
    "#\n",
    "#\n",
    "#\n",
    "#"
   ]
  },
  {
   "cell_type": "code",
   "execution_count": null,
   "id": "f29d31f8",
   "metadata": {},
   "outputs": [
    {
     "name": "stderr",
     "output_type": "stream",
     "text": [
      "C:\\Users\\shwet\\anaconda3\\lib\\site-packages\\deprecat\\classic.py:215: FutureWarning: In v4.0, pm.sample will return an `arviz.InferenceData` object instead of a `MultiTrace` by default. You can pass return_inferencedata=True or return_inferencedata=False to be safe and silence this warning.\n",
      "  return wrapped_(*args_, **kwargs_)\n",
      "Only 300 samples in chain.\n",
      "Auto-assigning NUTS sampler...\n",
      "Initializing NUTS using jitter+adapt_diag...\n",
      "C:\\Users\\shwet\\anaconda3\\lib\\site-packages\\theano\\tensor\\elemwise.py:826: RuntimeWarning: divide by zero encountered in log\n",
      "  variables = ufunc(*ufunc_args, **ufunc_kwargs)\n",
      "C:\\Users\\shwet\\anaconda3\\lib\\site-packages\\theano\\tensor\\elemwise.py:826: RuntimeWarning: invalid value encountered in multiply\n",
      "  variables = ufunc(*ufunc_args, **ufunc_kwargs)\n",
      "C:\\Users\\shwet\\anaconda3\\lib\\site-packages\\theano\\tensor\\elemwise.py:826: RuntimeWarning: invalid value encountered in log\n",
      "  variables = ufunc(*ufunc_args, **ufunc_kwargs)\n",
      "Multiprocess sampling (4 chains in 4 jobs)\n",
      "NUTS: [sigma, mu]\n"
     ]
    }
   ],
   "source": [
    "import pymc3 as pm\n",
    "\n",
    "with pm.Model() as model:\n",
    "    mu_mean = 170000\n",
    "    mu_sd = 100000\n",
    "    sigma_lambda = 1\n",
    "    \n",
    "    mu = pm.Normal('mu', mu=mu_mean, sd=mu_sd)\n",
    "    sigma = pm.Exponential('sigma', lam=sigma_lambda)\n",
    "    borderQC = pm.Normal('borderQC', mu=mu, sd=sigma, observed=data[(data['PigType'] == 'wild boar') & (data['pig_sighting'] == True)]['borderQC'])\n",
    "    \n",
    "    trace = pm.sample(300, tune=200)\n",
    "    \n",
    "    \n",
    "az.summary(trace)"
   ]
  },
  {
   "cell_type": "code",
   "execution_count": 135,
   "id": "dd018008",
   "metadata": {},
   "outputs": [
    {
     "data": {
      "text/plain": [
       "20"
      ]
     },
     "execution_count": 135,
     "metadata": {},
     "output_type": "execute_result"
    }
   ],
   "source": [
    "data['PigType'].value_counts()['wild boar']\n"
   ]
  },
  {
   "cell_type": "code",
   "execution_count": null,
   "id": "75ee8d9d",
   "metadata": {},
   "outputs": [],
   "source": []
  }
 ],
 "metadata": {
  "kernelspec": {
   "display_name": "Python 3 (ipykernel)",
   "language": "python",
   "name": "python3"
  },
  "language_info": {
   "codemirror_mode": {
    "name": "ipython",
    "version": 3
   },
   "file_extension": ".py",
   "mimetype": "text/x-python",
   "name": "python",
   "nbconvert_exporter": "python",
   "pygments_lexer": "ipython3",
   "version": "3.9.13"
  }
 },
 "nbformat": 4,
 "nbformat_minor": 5
}
