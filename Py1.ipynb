{
  "cells": [
    {
      "cell_type": "markdown",
      "metadata": {
        "id": "0Bm85-rv71Ds"
      },
      "source": [
        "DNA HAMMING"
      ]
    },
    {
      "cell_type": "code",
      "execution_count": null,
      "metadata": {
        "id": "SUBt9mET21CI"
      },
      "outputs": [],
      "source": [
        "def hamming(str_a, str_b):\n",
        "\n",
        "  if len(str_a)== len(str_b):\n",
        "\n",
        "    dist=0\n",
        "    for i in range(len(str_a)):\n",
        "      if str_a[i]!=str_b[i]:\n",
        "        dist=dist+1\n",
        "    print (dist)\n",
        "  else:\n",
        "    print(\"Error\")"
      ]
    },
    {
      "cell_type": "code",
      "execution_count": null,
      "metadata": {
        "colab": {
          "base_uri": "https://localhost:8080/"
        },
        "id": "8Hn_CiKI3Rt9",
        "outputId": "5174dd8c-2fde-4ae6-a1b6-9674d1f332c1"
      },
      "outputs": [
        {
          "name": "stdout",
          "output_type": "stream",
          "text": [
            "Error\n"
          ]
        }
      ],
      "source": [
        "hamming('ATGCACAC', 'ATGCATGG')"
      ]
    },
    {
      "cell_type": "markdown",
      "metadata": {
        "id": "strDaZLR78Dt"
      },
      "source": [
        "TRIANGLE KIND"
      ]
    },
    {
      "cell_type": "code",
      "execution_count": null,
      "metadata": {
        "id": "BlIwW6sb3W9J"
      },
      "outputs": [],
      "source": [
        "def triangle_kind(a:int,b:int,c:int):\n",
        "\n",
        "  #def valid(a,b,c):\n",
        "    if a<b+c and b<a+c and c<a+b:\n",
        "      #return True\n",
        "  \n",
        "  #if True:\n",
        "\n",
        "     if a==b==c:\n",
        "      print(\"Eq\")\n",
        "\n",
        "     elif a==b or b==c or a==c:\n",
        "      print (\"Iso\")\n",
        "\n",
        "     elif a!=b and b!=c and a!=c:\n",
        "      print (\"Sca\")\n",
        "      \n",
        "\n",
        "    else:\n",
        "     print (\"Not a triangle\")"
      ]
    },
    {
      "cell_type": "code",
      "execution_count": null,
      "metadata": {
        "colab": {
          "base_uri": "https://localhost:8080/"
        },
        "id": "8c0szM-g5u8_",
        "outputId": "88c250ad-e376-40b1-8092-f11d53489f9d"
      },
      "outputs": [
        {
          "name": "stdout",
          "output_type": "stream",
          "text": [
            "Not a triangle\n"
          ]
        }
      ],
      "source": [
        "triangle_kind(42,2,3)"
      ]
    },
    {
      "cell_type": "code",
      "execution_count": null,
      "metadata": {
        "id": "p13t5Sov58st"
      },
      "outputs": [],
      "source": []
    },
    {
      "cell_type": "markdown",
      "metadata": {
        "id": "0zrtchC28d2N"
      },
      "source": [
        "ONE TRIANGLE"
      ]
    },
    {
      "cell_type": "code",
      "execution_count": null,
      "metadata": {
        "colab": {
          "base_uri": "https://localhost:8080/"
        },
        "id": "R3KF8vbM8fxo",
        "outputId": "ab8f1fde-9b49-4f6e-8b8e-e67eb5425dda"
      },
      "outputs": [
        {
          "name": "stdout",
          "output_type": "stream",
          "text": [
            "5\n",
            "11111\n",
            "1111\n",
            "111\n",
            "11\n",
            "1\n"
          ]
        }
      ],
      "source": [
        "n=int(input())\n",
        "\n",
        "for i in range(n):\n",
        "  print ((\"1\")*(n-i))\n"
      ]
    },
    {
      "cell_type": "code",
      "execution_count": null,
      "metadata": {
        "colab": {
          "base_uri": "https://localhost:8080/"
        },
        "id": "-4JqsMUB8zhK",
        "outputId": "16d8b779-9c61-4e9e-e4b8-49e098b0cfd1"
      },
      "outputs": [
        {
          "name": "stdout",
          "output_type": "stream",
          "text": [
            "5\n",
            "1\n",
            "11\n",
            "111\n",
            "1111\n",
            "11111\n"
          ]
        }
      ],
      "source": [
        "n=int(input())\n",
        "\n",
        "for i in range(n):\n",
        "  print (\"1\"*(i+1))"
      ]
    },
    {
      "cell_type": "code",
      "execution_count": null,
      "metadata": {
        "id": "0NwFZiVd9nQ3"
      },
      "outputs": [],
      "source": []
    },
    {
      "cell_type": "markdown",
      "metadata": {
        "id": "TVvINDlJ-S8O"
      },
      "source": [
        "NEWTON SQRT (not my code)"
      ]
    },
    {
      "cell_type": "code",
      "execution_count": null,
      "metadata": {
        "id": "nZu-4TDZ-62z"
      },
      "outputs": [],
      "source": [
        "def squareRoot(n, l) :\n",
        " \n",
        "    # Assuming the sqrt of n as n only\n",
        "    x = n\n",
        " \n",
        "    # To count the number of iterations\n",
        "    count = 0\n",
        " \n",
        "    while (1) :\n",
        "        count += 1\n",
        " \n",
        "        # Calculate more closed x\n",
        "        root = 0.5 * (x + (n / x))\n",
        " \n",
        "        # Check for closeness\n",
        "        if (abs(root - x) < l) :\n",
        "            break\n",
        " \n",
        "        # Update root\n",
        "        x = root\n",
        " \n",
        "    return root\n",
        "    "
      ]
    },
    {
      "cell_type": "code",
      "execution_count": null,
      "metadata": {
        "colab": {
          "base_uri": "https://localhost:8080/"
        },
        "id": "2psZIzC7AinW",
        "outputId": "d9c1e998-c82d-4f96-e8c1-49235effcac1"
      },
      "outputs": [
        {
          "data": {
            "text/plain": [
              "2.05"
            ]
          },
          "execution_count": 82,
          "metadata": {},
          "output_type": "execute_result"
        }
      ],
      "source": [
        "squareRoot(4,1)\n"
      ]
    },
    {
      "cell_type": "code",
      "execution_count": null,
      "metadata": {
        "id": "QbBQNaU7B4S_"
      },
      "outputs": [],
      "source": [
        "from typing import Union\n",
        "Num = Union[int, float]\n",
        "def cube(x: Num) -> Num:\n",
        "\n",
        " return x * x * x"
      ]
    },
    {
      "cell_type": "code",
      "execution_count": null,
      "metadata": {
        "colab": {
          "base_uri": "https://localhost:8080/"
        },
        "id": "tdhT9L95B_2o",
        "outputId": "291d5f6b-1cb7-43e1-eefd-3e5a3e880b54"
      },
      "outputs": [
        {
          "data": {
            "text/plain": [
              "-27"
            ]
          },
          "execution_count": 87,
          "metadata": {},
          "output_type": "execute_result"
        }
      ],
      "source": [
        "cube(-3)"
      ]
    },
    {
      "cell_type": "markdown",
      "metadata": {
        "id": "7-KvrKZ2DJnp"
      },
      "source": [
        "PYTHAGOREAN TRIPLETS"
      ]
    },
    {
      "cell_type": "code",
      "execution_count": null,
      "metadata": {
        "id": "ozPJwowDDLVM"
      },
      "outputs": [],
      "source": [
        "import math\n",
        "def pytriplets(N):\n",
        "\n",
        " for a in range(N):\n",
        "   for b in range(1,a):\n",
        "     c=math.sqrt(a*a+b*b)\n",
        "     if c%1==0 and a+b+c==N:\n",
        "\n",
        "       print(a,b,int(c))\n",
        "\n",
        "\n",
        "\n",
        "\n"
      ]
    },
    {
      "cell_type": "code",
      "execution_count": null,
      "metadata": {
        "colab": {
          "base_uri": "https://localhost:8080/"
        },
        "id": "GlM57rglCDaG",
        "outputId": "b0bb1986-07b2-4a2d-d538-8acb197ddbcd"
      },
      "outputs": [
        {
          "name": "stdout",
          "output_type": "stream",
          "text": [
            "4 3 5\n"
          ]
        }
      ],
      "source": [
        "pytriplets(12)"
      ]
    },
    {
      "cell_type": "markdown",
      "metadata": {
        "id": "KQWwEIF2GRNp"
      },
      "source": [
        "FLATTEN LIST"
      ]
    },
    {
      "cell_type": "code",
      "execution_count": null,
      "metadata": {
        "id": "pTc6w8sjoyDL"
      },
      "outputs": [],
      "source": [
        "def flatten(input_list):\n",
        "    flat_list = []\n",
        "    for item in input_list:\n",
        "        if type(item) == list:\n",
        "            for sub_item in item:\n",
        "                if sub_item is not None:\n",
        "                    flat_list.append(sub_item)\n",
        "        elif item is not None:\n",
        "            flat_list.append(item)\n",
        "    return flat_list"
      ]
    },
    {
      "cell_type": "code",
      "execution_count": null,
      "metadata": {
        "colab": {
          "base_uri": "https://localhost:8080/"
        },
        "id": "f7BafQdLo0kR",
        "outputId": "bd926a44-867f-475a-a365-5890203a38a1"
      },
      "outputs": [
        {
          "name": "stdout",
          "output_type": "stream",
          "text": [
            "[1, 2, 3, 4, 6, 7, 8, 9]\n"
          ]
        }
      ],
      "source": [
        "input_list = [1, 2, 3, [4, None, 6], [7, 8, 9]]\n",
        "print(flat_list)"
      ]
    },
    {
      "cell_type": "markdown",
      "metadata": {
        "id": "QDYtfLaAexOR"
      },
      "source": [
        "EELS"
      ]
    },
    {
      "cell_type": "code",
      "execution_count": null,
      "metadata": {
        "id": "FyYVTcLQeyXM"
      },
      "outputs": [],
      "source": [
        "timers=[2,1,1]\n",
        "def generation(timers:list, days:int):\n",
        " print(days)\n",
        " newlist1=timers[:]\n",
        " #while days>0:\n",
        " for j in range(days):\n",
        "       for i in range(len(newlist1)):\n",
        "                if newlist1[i]>0:\n",
        "\n",
        "                    newlist1[i]=newlist1[i]-(1)\n",
        "\n",
        "\n",
        "    \n",
        "\n",
        "             \n",
        "                elif newlist1[i]==0:\n",
        "                    newlist1[i]=6\n",
        "      \n",
        "                    newlist1.append(8)\n",
        "  \n",
        "          \n",
        " return newlist1\n",
        "          \n",
        "\n",
        "\n"
      ]
    },
    {
      "cell_type": "code",
      "execution_count": null,
      "metadata": {
        "colab": {
          "base_uri": "https://localhost:8080/"
        },
        "id": "vS398UtFmH72",
        "outputId": "910888ff-293b-410a-b7c6-c8670745604a"
      },
      "outputs": [
        {
          "name": "stdout",
          "output_type": "stream",
          "text": [
            "2\n"
          ]
        },
        {
          "data": {
            "text/plain": [
              "[0, 6, 6, 8, 8]"
            ]
          },
          "execution_count": 27,
          "metadata": {},
          "output_type": "execute_result"
        }
      ],
      "source": [
        "generation(timers,2)"
      ]
    },
    {
      "cell_type": "code",
      "execution_count": null,
      "metadata": {
        "id": "qYQ7_i5UmIDx"
      },
      "outputs": [],
      "source": []
    },
    {
      "cell_type": "code",
      "execution_count": null,
      "metadata": {
        "id": "bopdL80Ie9Rq"
      },
      "outputs": [],
      "source": [
        "def sum_range_cubes(a: int, b: int) -> int:\n",
        "  def cube(i:int):\n",
        "    return i*i*i\n",
        "  assert b >= a\n",
        "  result = 0\n",
        "  for i in range(a, b+1):\n",
        "    result = result + cube(i) \n",
        "  return result"
      ]
    },
    {
      "cell_type": "code",
      "execution_count": null,
      "metadata": {
        "id": "3BkUQYLOmGbv"
      },
      "outputs": [],
      "source": []
    },
    {
      "cell_type": "code",
      "execution_count": null,
      "metadata": {
        "colab": {
          "base_uri": "https://localhost:8080/"
        },
        "id": "1s1EJiQQjjgQ",
        "outputId": "579c3712-97dc-4de1-d58b-df50601dfedd"
      },
      "outputs": [
        {
          "data": {
            "text/plain": [
              "36"
            ]
          },
          "execution_count": 124,
          "metadata": {},
          "output_type": "execute_result"
        }
      ],
      "source": [
        "sum_range_cubes(1,3)"
      ]
    },
    {
      "cell_type": "code",
      "execution_count": null,
      "metadata": {
        "id": "0VE9Sr-WkVnU"
      },
      "outputs": [],
      "source": [
        "from math import pi\n",
        "def pi_sum(a: int, b: int) -> float:\n",
        "\n",
        "  #while (a+2)>b:\n",
        "     \n",
        "\n",
        "  assert b >= a\n",
        "  result = 0.0\n",
        "  for i in range(a, b+1, 4):\n",
        "    result = result + (1 / (i * (i + 2)))\n",
        "  return result"
      ]
    },
    {
      "cell_type": "code",
      "execution_count": null,
      "metadata": {
        "colab": {
          "base_uri": "https://localhost:8080/"
        },
        "id": "-fQRNgpIkVyT",
        "outputId": "f0628984-2a58-4579-b975-34a304287967"
      },
      "outputs": [
        {
          "data": {
            "text/plain": [
              "0.125"
            ]
          },
          "execution_count": 128,
          "metadata": {},
          "output_type": "execute_result"
        }
      ],
      "source": [
        "pi_sum(2,3)"
      ]
    },
    {
      "cell_type": "markdown",
      "metadata": {
        "id": "WlGrMIiQlcMA"
      },
      "source": [
        "NUMPY BASICS"
      ]
    },
    {
      "cell_type": "code",
      "execution_count": null,
      "metadata": {
        "id": "Xl2EVX3-X_pg"
      },
      "outputs": [],
      "source": [
        "import numpy as np\n",
        "\n",
        "def square_range(edge: int) -> np.ndarray:\n",
        "\n",
        "    arr=np.arange(edge*edge).reshape(edge,edge)\n",
        "    return arr\n",
        "    \n",
        "   \n"
      ]
    },
    {
      "cell_type": "code",
      "execution_count": null,
      "metadata": {
        "colab": {
          "base_uri": "https://localhost:8080/"
        },
        "id": "gR5Cjo-CdPmF",
        "outputId": "e1c65535-4b95-4060-9230-c4e656211fe3"
      },
      "outputs": [
        {
          "data": {
            "text/plain": [
              "array([[ 0,  1,  2,  3,  4],\n",
              "       [ 5,  6,  7,  8,  9],\n",
              "       [10, 11, 12, 13, 14],\n",
              "       [15, 16, 17, 18, 19],\n",
              "       [20, 21, 22, 23, 24]])"
            ]
          },
          "execution_count": 131,
          "metadata": {},
          "output_type": "execute_result"
        }
      ],
      "source": [
        "square_range(5)"
      ]
    },
    {
      "cell_type": "code",
      "execution_count": null,
      "metadata": {
        "id": "Xu71LmftdczJ"
      },
      "outputs": [],
      "source": [
        "def zero_border(arr: np.ndarray) -> np.ndarray:\n",
        "    #arr = np.array([[1, 2, 3], [4, 5, 6]])\n",
        "    arr2 = arr.copy()\n",
        "\n",
        "    arr2[0,:] = 0\n",
        "    arr2[:,0] = 0\n",
        "    arr2[-1,:] = 0\n",
        "    arr2[:,-1] = 0\n",
        "    #new_arr = np.pad(square, ((1,1), (1,1)), mode='constant', constant_values=0) adds a border of zero\n",
        "\n",
        "    return arr2"
      ]
    },
    {
      "cell_type": "code",
      "execution_count": null,
      "metadata": {
        "colab": {
          "base_uri": "https://localhost:8080/"
        },
        "id": "EfI3ynt3fs0N",
        "outputId": "41defeb0-4261-421c-8725-3ee71464af51"
      },
      "outputs": [
        {
          "data": {
            "text/plain": [
              "array([[0, 0, 0],\n",
              "       [0, 5, 0],\n",
              "       [0, 0, 0]])"
            ]
          },
          "execution_count": 185,
          "metadata": {},
          "output_type": "execute_result"
        }
      ],
      "source": [
        "zero_border(np.array([[1, 2, 3], [4, 5, 6], [7, 8, 9]]))\n"
      ]
    },
    {
      "cell_type": "code",
      "execution_count": null,
      "metadata": {
        "colab": {
          "base_uri": "https://localhost:8080/"
        },
        "id": "I5898DxlleNB",
        "outputId": "c298d547-509e-4adc-b783-bff6efbfa167"
      },
      "outputs": [
        {
          "name": "stdout",
          "output_type": "stream",
          "text": [
            "[[1 2]\n",
            " [3 4]]\n",
            "[[1 2]\n",
            " [3 4]]\n",
            "[[0 0]\n",
            " [0 0]]\n"
          ]
        },
        {
          "data": {
            "text/plain": [
              "True"
            ]
          },
          "execution_count": 186,
          "metadata": {},
          "output_type": "execute_result"
        }
      ],
      "source": [
        "x = np.array([[1, 2], [3, 4]])\n",
        "print(x)\n",
        "y = zero_border(x)\n",
        "print(x)\n",
        "print(y)\n",
        "x[0,0]!=y[0,0]"
      ]
    },
    {
      "cell_type": "code",
      "execution_count": null,
      "metadata": {
        "colab": {
          "base_uri": "https://localhost:8080/"
        },
        "id": "-fidiI-OmlOC",
        "outputId": "a2964a54-92f2-4257-cd62-cfceafa229ee"
      },
      "outputs": [
        {
          "data": {
            "text/plain": [
              "True"
            ]
          },
          "execution_count": 171,
          "metadata": {},
          "output_type": "execute_result"
        }
      ],
      "source": [
        "(y == np.zeros((2, 2), 'int32')).all()"
      ]
    },
    {
      "cell_type": "code",
      "execution_count": null,
      "metadata": {
        "colab": {
          "base_uri": "https://localhost:8080/"
        },
        "id": "eYOTZyFEleQk",
        "outputId": "a878459a-421a-42b5-9dde-4878a363e0c7"
      },
      "outputs": [
        {
          "data": {
            "text/plain": [
              "array([[0., 0., 0., 0., 0., 0., 0.],\n",
              "       [0., 1., 1., 1., 1., 1., 0.],\n",
              "       [0., 1., 1., 1., 1., 1., 0.],\n",
              "       [0., 1., 1., 1., 1., 1., 0.],\n",
              "       [0., 1., 1., 1., 1., 1., 0.],\n",
              "       [0., 1., 1., 1., 1., 1., 0.],\n",
              "       [0., 0., 0., 0., 0., 0., 0.]])"
            ]
          },
          "execution_count": 187,
          "metadata": {},
          "output_type": "execute_result"
        }
      ],
      "source": [
        "zero_border(np.ones((7,7)))\n"
      ]
    },
    {
      "cell_type": "code",
      "execution_count": null,
      "metadata": {
        "id": "VzA1hAI-opx9"
      },
      "outputs": [],
      "source": [
        "def std_array(seq: list):\n",
        "   \n",
        "    mean = sum(seq) / len(seq)\n",
        "    sd = 0.0\n",
        "    for e in seq:\n",
        "        sd = sd + (e - mean)**2\n",
        "    sd = (sd / len(seq))**0.5\n",
        "    return [(x - mean) / sd for x in seq]\n"
      ]
    },
    {
      "cell_type": "code",
      "execution_count": null,
      "metadata": {
        "colab": {
          "base_uri": "https://localhost:8080/"
        },
        "id": "hEvyHIu-paB3",
        "outputId": "b9fde954-1541-4d21-f85d-c70d33e8f8d3"
      },
      "outputs": [
        {
          "data": {
            "text/plain": [
              "[-1.414213562373095,\n",
              " -0.7071067811865475,\n",
              " 0.0,\n",
              " 0.7071067811865475,\n",
              " 1.414213562373095]"
            ]
          },
          "execution_count": 199,
          "metadata": {},
          "output_type": "execute_result"
        }
      ],
      "source": [
        "std_array([1,2,3,4,5])"
      ]
    },
    {
      "cell_type": "code",
      "execution_count": null,
      "metadata": {
        "id": "j9HjHC4Hp9IR"
      },
      "outputs": [],
      "source": [
        "def fast_std_array(seq: list):\n",
        "   mean = seq.mean()\n",
        "   std = seq.std()\n",
        "   return [(i - mean) / std for i in seq]\n",
        "\n"
      ]
    },
    {
      "cell_type": "code",
      "execution_count": null,
      "metadata": {
        "colab": {
          "base_uri": "https://localhost:8080/"
        },
        "id": "Pzh7s4HgqpZk",
        "outputId": "f4eda230-183f-430e-983e-c008dd08c741"
      },
      "outputs": [
        {
          "data": {
            "text/plain": [
              "[-1.414213562373095,\n",
              " -0.7071067811865475,\n",
              " 0.0,\n",
              " 0.7071067811865475,\n",
              " 1.414213562373095]"
            ]
          },
          "execution_count": 233,
          "metadata": {},
          "output_type": "execute_result"
        }
      ],
      "source": [
        "seq=np.array([1,2,3,4,5])\n",
        "\n",
        "fast_std_array(seq)"
      ]
    },
    {
      "cell_type": "code",
      "execution_count": null,
      "metadata": {
        "colab": {
          "base_uri": "https://localhost:8080/"
        },
        "id": "ga__xZKGrnky",
        "outputId": "53539f13-b0a7-48ac-b117-6eb9f1a8638c"
      },
      "outputs": [
        {
          "data": {
            "text/plain": [
              "True"
            ]
          },
          "execution_count": 234,
          "metadata": {},
          "output_type": "execute_result"
        }
      ],
      "source": [
        " std_array(seq) == fast_std_array(seq)"
      ]
    },
    {
      "cell_type": "code",
      "execution_count": null,
      "metadata": {
        "id": "_qtijR_xC88K"
      },
      "outputs": [],
      "source": [
        "import numpy as np\n",
        "def square_diag(edge: int)-> np.ndarray:\n",
        "\n",
        "  arr=np.zeros((edge,edge), dtype=int)\n",
        "  y=list(range(1, edge+1))\n",
        "\n",
        "  np.fill_diagonal(arr,y)\n",
        "  return arr\n",
        "\n",
        "  \n",
        "\n"
      ]
    },
    {
      "cell_type": "code",
      "execution_count": null,
      "metadata": {
        "colab": {
          "base_uri": "https://localhost:8080/"
        },
        "id": "AZerLDuqDfx7",
        "outputId": "312e072e-3665-41a2-853d-97da31bc36ff"
      },
      "outputs": [
        {
          "data": {
            "text/plain": [
              "array([[1, 0, 0, 0, 0],\n",
              "       [0, 2, 0, 0, 0],\n",
              "       [0, 0, 3, 0, 0],\n",
              "       [0, 0, 0, 4, 0],\n",
              "       [0, 0, 0, 0, 5]])"
            ]
          },
          "execution_count": 44,
          "metadata": {},
          "output_type": "execute_result"
        }
      ],
      "source": [
        "square_diag(5)"
      ]
    },
    {
      "cell_type": "code",
      "execution_count": null,
      "metadata": {
        "id": "5h-f2FrEDiQY"
      },
      "outputs": [],
      "source": [
        "def add_zero_border(matrix: np.ndarray) -> np.ndarray:\n",
        "      arr = np.pad(matrix, ((1,1), (1,1)), mode='constant', constant_values=0)\n",
        "      return arr\n",
        "\n"
      ]
    },
    {
      "cell_type": "code",
      "execution_count": null,
      "metadata": {
        "colab": {
          "base_uri": "https://localhost:8080/"
        },
        "id": "lmg2iFqtJjIg",
        "outputId": "1ffc10ab-fc51-44dc-d412-4b01ef8b3637"
      },
      "outputs": [
        {
          "data": {
            "text/plain": [
              "array([[0, 0, 0, 0, 0],\n",
              "       [0, 1, 2, 3, 0],\n",
              "       [0, 4, 5, 6, 0],\n",
              "       [0, 7, 8, 9, 0],\n",
              "       [0, 0, 0, 0, 0]])"
            ]
          },
          "execution_count": 47,
          "metadata": {},
          "output_type": "execute_result"
        }
      ],
      "source": [
        "add_zero_border(np.array([[1, 2, 3], [4, 5, 6], [7, 8, 9]]))\n",
        "    "
      ]
    },
    {
      "cell_type": "code",
      "execution_count": null,
      "metadata": {
        "colab": {
          "base_uri": "https://localhost:8080/"
        },
        "id": "ti3bA68oKuu6",
        "outputId": "692b7433-d9a4-451b-825c-45ffb2d1bcd9"
      },
      "outputs": [
        {
          "data": {
            "text/plain": [
              "True"
            ]
          },
          "execution_count": 48,
          "metadata": {},
          "output_type": "execute_result"
        }
      ],
      "source": [
        "x = np.array([[1, 2], [3, 4]])\n",
        "y = add_zero_border(x)\n",
        "id(x) != id(y)"
      ]
    },
    {
      "cell_type": "code",
      "execution_count": null,
      "metadata": {
        "colab": {
          "base_uri": "https://localhost:8080/"
        },
        "id": "VmD_0uYmKwfu",
        "outputId": "4e296a4d-4301-473e-edfd-00e281e9491e"
      },
      "outputs": [
        {
          "data": {
            "text/plain": [
              "True"
            ]
          },
          "execution_count": 49,
          "metadata": {},
          "output_type": "execute_result"
        }
      ],
      "source": [
        "y.shape == tuple(d+2 for d in x.shape)"
      ]
    },
    {
      "cell_type": "code",
      "execution_count": null,
      "metadata": {
        "colab": {
          "base_uri": "https://localhost:8080/"
        },
        "id": "VBbhueFOK2eM",
        "outputId": "4f730075-fa11-47f1-83ad-34edbd90c2b3"
      },
      "outputs": [
        {
          "data": {
            "text/plain": [
              "array([[0., 0., 0., 0., 0., 0., 0.],\n",
              "       [0., 1., 1., 1., 1., 1., 0.],\n",
              "       [0., 1., 1., 1., 1., 1., 0.],\n",
              "       [0., 1., 1., 1., 1., 1., 0.],\n",
              "       [0., 1., 1., 1., 1., 1., 0.],\n",
              "       [0., 1., 1., 1., 1., 1., 0.],\n",
              "       [0., 0., 0., 0., 0., 0., 0.]])"
            ]
          },
          "execution_count": 50,
          "metadata": {},
          "output_type": "execute_result"
        }
      ],
      "source": [
        "add_zero_border(np.ones((5,5)))"
      ]
    },
    {
      "cell_type": "code",
      "execution_count": null,
      "metadata": {
        "id": "4ODloRxwO4WZ"
      },
      "outputs": [],
      "source": [
        "import numpy as np\n",
        "\n",
        "def has_zero_border(array):\n",
        "\n",
        "    y = array.copy()\n",
        "\n",
        "    y[0,:] = 0\n",
        "    y[:,0] = 0\n",
        "    y[-1,:] = 0\n",
        "    y[:,-1] = 0\n",
        "\n",
        "    return np.array_equal(array,y)"
      ]
    },
    {
      "cell_type": "code",
      "execution_count": null,
      "metadata": {
        "colab": {
          "base_uri": "https://localhost:8080/"
        },
        "id": "AeIejKLyLjOw",
        "outputId": "b1d8ed6a-9712-4f38-8e17-b7067348cbee"
      },
      "outputs": [
        {
          "data": {
            "text/plain": [
              "True"
            ]
          },
          "execution_count": 90,
          "metadata": {},
          "output_type": "execute_result"
        }
      ],
      "source": [
        "g = np.array([[0,0,0,0],\n",
        "              [0,1,8,0],\n",
        "              [0,0,1,0],\n",
        "              [0,0,0,0]],)\n",
        "has_zero_border(g)"
      ]
    },
    {
      "cell_type": "code",
      "execution_count": null,
      "metadata": {
        "id": "N_DnzcxIQJf3"
      },
      "outputs": [],
      "source": [
        "def neighbours_count(matrix: np.ndarray, x: int, y: int) -> int:\n",
        "  "
      ]
    },
    {
      "cell_type": "code",
      "execution_count": null,
      "metadata": {
        "id": "DMP0tHMvRO25"
      },
      "outputs": [],
      "source": []
    },
    {
      "cell_type": "code",
      "execution_count": null,
      "metadata": {
        "id": "LTH9zhlxRO79"
      },
      "outputs": [],
      "source": []
    },
    {
      "cell_type": "code",
      "execution_count": null,
      "metadata": {
        "id": "wlDQs9HSRO9o"
      },
      "outputs": [],
      "source": []
    },
    {
      "cell_type": "code",
      "execution_count": null,
      "metadata": {
        "id": "GJ73zWcVRPN-"
      },
      "outputs": [],
      "source": []
    },
    {
      "cell_type": "code",
      "execution_count": null,
      "metadata": {
        "colab": {
          "base_uri": "https://localhost:8080/",
          "height": 265
        },
        "id": "edQkVPTbRPRl",
        "outputId": "d4db492d-d470-441c-f51e-bae2da2a2e17"
      },
      "outputs": [
        {
          "data": {
            "image/png": "[encoded data removed]",
            "text/plain": [
              "<Figure size 432x288 with 1 Axes>"
            ]
          },
          "metadata": {},
          "output_type": "display_data"
        }
      ],
      "source": [
        "import matplotlib.pyplot as plt\n",
        "x = np.linspace(-2*np.pi, 2*np.pi, 100)\n",
        "fig, ax = plt.subplots()\n",
        "ax.plot(x, np.sin(x))\n",
        "fig.show()\n"
      ]
    }
  ],
  "metadata": {
    "colab": {
      "provenance": []
    },
    "kernelspec": {
      "display_name": "Python 3",
      "name": "python3"
    },
    "language_info": {
      "name": "python"
    }
  },
  "nbformat": 4,
  "nbformat_minor": 0
}