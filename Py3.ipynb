{
  "nbformat": 4,
  "nbformat_minor": 0,
  "metadata": {
    "colab": {
      "provenance": []
    },
    "kernelspec": {
      "name": "python3",
      "display_name": "Python 3"
    },
    "language_info": {
      "name": "python"
    }
  },
  "cells": [
    {
      "cell_type": "markdown",
      "source": [
        "DNA FILES"
      ],
      "metadata": {
        "id": "LiunPXGjxGj3"
      }
    },
    {
      "cell_type": "code",
      "execution_count": null,
      "metadata": {
        "id": "NRy3BAAFJQ5C"
      },
      "outputs": [],
      "source": [
        "def acid_count(fasta_filename: str) -> dict[str, int]:\n",
        "\n",
        " for i in acid_count:\n",
        "  r[i]=acid_count.count[i]\n",
        "  print (r)\n",
        "  \n",
        "\n",
        "\n",
        "def interesting_codons(fasta_filename: str, interess: set[str]) -> list[str]:\n",
        "    \"\"\"Return the list of interesting codons contained in the sequence.\n",
        "    The interesting codons are the three letter (sub-)sequences\n",
        "    in the interess set.\n",
        "    The reading frame starts on the first letter of the strand.\n",
        "    >>> interesting_codons('AB000042.fasta', {'ATG', 'TGT'})\n",
        "    ['TGT', 'ATG', 'TGT', 'ATG', 'ATG', 'ATG', 'ATG', 'ATG', 'TGT', 'TGT']\n",
        "    >>> interesting_codons('AB000265.fasta', {'TGA', 'GAA'})\n",
        "    ['TGA', 'GAA', 'TGA', 'GAA', 'TGA', 'TGA', 'TGA', 'TGA', 'GAA']\n",
        "    \"\"\"\n",
        "    return []\n",
        "\n",
        "\n",
        "def translate_codons(fasta_filename: str, mapping_filename: str) -> list[str]:\n",
        "    \"\"\"Return the list of proteins that can be derived from the fasta sequence, by\n",
        "    applying the given mapping.\n",
        "    >>> translate_codons('AB000265.fasta', 'proteins.txt')\n",
        "    ['Tyrosine', 'Tryptophan', 'Serine', 'Tyrosine', 'STOP', 'Phenylalanine', 'Cysteine', 'Tryptophan', 'STOP', 'Tyrosine', 'STOP', 'Tyrosine', 'Tryptophan', 'Cysteine', 'Cysteine', 'Cysteine', 'Tryptophan', 'Cysteine', 'Tyrosine', 'Tryptophan']\n",
        "    >>> t = translate_codons('AB000666.fasta', 'proteins.txt')\n",
        "    >>> len(t) == 60 and t[3] == 'STOP' and t[12] == 'Tyrosine'\n",
        "    True\n",
        "    \"\"\"\n",
        "    return []\n",
        "\n",
        "\n",
        "def proteins(fasta_filename: str, mapping_filename: str) -> set[str]:\n",
        "    \"\"\"Return the set of proteins that can be derived from the fasta sequence, by\n",
        "    applying the given mapping.\n",
        "    >>> s = proteins('AB000042.fasta', 'proteins.txt')\n",
        "    >>> s == {'STOP', 'Tryptophan', 'Phenylalanine', 'Methionine', 'Serine', 'Cysteine', 'Tyrosine', 'Leucine'}\n",
        "    True\n",
        "    >>> proteins('AB000042.fasta', 'proteins.txt') == proteins('AB000666.fasta', 'proteins.txt')\n",
        "    True\n",
        "    >>> proteins('AB000265.fasta', 'proteins.txt').issubset(proteins('AB000042.fasta', 'proteins.txt'))\n",
        "    True\n",
        "    \"\"\"\n",
        "    return set()"
      ]
    },
    {
      "cell_type": "code",
      "source": [],
      "metadata": {
        "id": "YYU_6i3CxT1k"
      },
      "execution_count": null,
      "outputs": []
    },
    {
      "cell_type": "code",
      "execution_count": null,
      "metadata": {
        "colab": {
          "base_uri": "https://localhost:8080/"
        },
        "id": "BPartR3jLs3X",
        "outputId": "a0746904-8d5c-4c3b-c390-a9e30d7b97cf"
      },
      "outputs": [
        {
          "name": "stdout",
          "output_type": "stream",
          "text": [
            "/content/AB000042.txt\n"
          ]
        }
      ],
      "source": [
        "import numpy as np\n",
        "import collections\n",
        "from collections import Counter\n",
        "import pprint\n",
        "\n",
        "import os\n",
        "\n",
        "file_path = os.path.abspath('AB000042.txt')\n",
        "print(file_path)\n",
        "\n",
        "file_path='/content/AB000042.txt'\n",
        "\n",
        "filename='AB000042.txt'\n",
        "def acid_count(filename:str):\n",
        " \n",
        " \n",
        " #a=np.loadtxt('AB000042.txt', skiprows=1)\n",
        " with open(file_path, \"r\") as f:\n",
        "    next(f)\n",
        "\n",
        "    AB000042 = f.read().strip()\n",
        "\n",
        "    numeric_representation = []\n",
        "    for base in AB000042:\n",
        "     if base == 'A':\n",
        "        numeric_representation.append(0)\n",
        "     elif base == 'T':\n",
        "        numeric_representation.append(1)\n",
        "     elif base == 'C':\n",
        "        numeric_representation.append(2)\n",
        "     elif base == 'G':\n",
        "        numeric_representation.append(3)\n",
        "\n",
        "    counts = [0, 0, 0, 0]\n",
        "    for num in numeric_representation:\n",
        "      counts[num] += 1\n",
        "\n",
        "    print(\"A:\", counts[0])\n",
        "    print(\"T:\", counts[1])\n",
        "    print(\"C:\", counts[2])\n",
        "    print(\"G:\", counts[3])\n",
        "\n"
      ]
    },
    {
      "cell_type": "code",
      "execution_count": null,
      "metadata": {
        "colab": {
          "base_uri": "https://localhost:8080/"
        },
        "id": "F0wxjsmC5T55",
        "outputId": "bb52db47-3ca0-475d-b9c4-dac3fdee9e34"
      },
      "outputs": [
        {
          "name": "stdout",
          "output_type": "stream",
          "text": [
            "A: 186\n",
            "T: 222\n",
            "C: 126\n",
            "G: 121\n"
          ]
        }
      ],
      "source": [
        "acid_count('AB000042.txt')"
      ]
    },
    {
      "cell_type": "code",
      "execution_count": null,
      "metadata": {
        "colab": {
          "base_uri": "https://localhost:8080/"
        },
        "id": "rNu_6sdz146-",
        "outputId": "6436cebf-2eeb-4d8d-d380-99de1e2106c7"
      },
      "outputs": [
        {
          "name": "stdout",
          "output_type": "stream",
          "text": [
            ">AB000042.1 Rhizoctonia solani genes for 18S rRNA, 5.8S rRNA, 28S rRNA, partial and complete sequence, isolate: ST4-1\n",
            "AATTTTAATGAAGAGTTTGGTTGTAGCTGGTCTATTTATTTAGGCATGTGCACACCTCCCTCTTTCATCC\n",
            "CACACACACCTGTGAACTTGTGAGACAGTTGGGGAATTTATTTGTTATTTTTTGTAATAAAATGATAATA\n",
            "AATCATTGAACCCTTCTGTCTACTCAACTCATATAAAATCAATTTATTTTAAATGAATGTAATGGATGTA\n",
            "ACACATCTCATACTAAGTTTCAACAACGGATCTCTTGGCTCTCGCATCGATGAAGAACGCAGCGAAATGC\n",
            "GATAAGTAATGTGAATTGCAGAATTCAGTGAATCATCGAATCTTTGAACGCACCTTGCGCTCCTTGGTAT\n",
            "TCCTTGGAGCATGCCTGTTTGAGTATCATGAAATCTTCAAAATCAATCTTTTTGTTAACTCAATTAGTTT\n",
            "GATCTTGGTATTGGAGGTCTTTTGCAGCTTCACACCTGCTCCTCTTTGTGTATTAGCTGGATCTCAGTGT\n",
            "TATGCTTGGTTCCACTCAGCGTGATAAATTATCTATCGCTGAGGACACTGTAAAAAGTGGCCAAGGTAAA\n",
            "TGCAGATGAACCGCTTCTAATAGTCCATTGACTTGGACACTATTATTATGATCTGATCTCAAATCAGGTA\n",
            "GGACTACCCGCTGAACTTAAGCATA\n",
            "\n"
          ]
        }
      ],
      "source": [
        "import os\n",
        "\n",
        "file_path = '/content/AB000042.txt'\n",
        "\n",
        "if os.path.exists(file_path):\n",
        "    with open(file_path) as f:\n",
        "        contents = f.read()\n",
        "    print(contents)\n",
        "else:\n",
        "    print(f\"Error: File not found at {file_path}\")"
      ]
    },
    {
      "cell_type": "code",
      "execution_count": null,
      "metadata": {
        "id": "1h7Mt45n4-hW"
      },
      "outputs": [],
      "source": [
        "x= open(file_path, \"r\") #opening and reading file\n",
        "\n",
        "a=x.read()\n",
        "\n",
        "x.close()"
      ]
    },
    {
      "cell_type": "code",
      "execution_count": null,
      "metadata": {
        "colab": {
          "base_uri": "https://localhost:8080/",
          "height": 87
        },
        "id": "66qlRuRa9ait",
        "outputId": "3f66ca95-2112-4f5a-fe5c-b7f0ab34e0db"
      },
      "outputs": [
        {
          "data": {
            "application/vnd.google.colaboratory.intrinsic+json": {
              "type": "string"
            },
            "text/plain": [
              "'AATTTTAATGAAGAGTTTGGTTGTAGCTGGTCTATTTATTTAGGCATGTGCACACCTCCCTCTTTCATCC\\nCACACACACCTGTGAACTTGTGAGACAGTTGGGGAATTTATTTGTTATTTTTTGTAATAAAATGATAATA\\nAATCATTGAACCCTTCTGTCTACTCAACTCATATAAAATCAATTTATTTTAAATGAATGTAATGGATGTA\\nACACATCTCATACTAAGTTTCAACAACGGATCTCTTGGCTCTCGCATCGATGAAGAACGCAGCGAAATGC\\nGATAAGTAATGTGAATTGCAGAATTCAGTGAATCATCGAATCTTTGAACGCACCTTGCGCTCCTTGGTAT\\nTCCTTGGAGCATGCCTGTTTGAGTATCATGAAATCTTCAAAATCAATCTTTTTGTTAACTCAATTAGTTT\\nGATCTTGGTATTGGAGGTCTTTTGCAGCTTCACACCTGCTCCTCTTTGTGTATTAGCTGGATCTCAGTGT\\nTATGCTTGGTTCCACTCAGCGTGATAAATTATCTATCGCTGAGGACACTGTAAAAAGTGGCCAAGGTAAA\\nTGCAGATGAACCGCTTCTAATAGTCCATTGACTTGGACACTATTATTATGATCTGATCTCAAATCAGGTA\\nGGACTACCCGCTGAACTTAAGCATA\\n'"
            ]
          },
          "execution_count": 28,
          "metadata": {},
          "output_type": "execute_result"
        }
      ],
      "source": [
        "b=a[118:] #removing initial data thats not bases\n",
        "b"
      ]
    },
    {
      "cell_type": "code",
      "execution_count": null,
      "metadata": {
        "colab": {
          "base_uri": "https://localhost:8080/",
          "height": 87
        },
        "id": "fIeAmVew-r9R",
        "outputId": "202d6399-dd25-4c2d-f2d5-23c3a899ec8a"
      },
      "outputs": [
        {
          "data": {
            "application/vnd.google.colaboratory.intrinsic+json": {
              "type": "string"
            },
            "text/plain": [
              "'AATTTTAATGAAGAGTTTGGTTGTAGCTGGTCTATTTATTTAGGCATGTGCACACCTCCCTCTTTCATCCCACACACACCTGTGAACTTGTGAGACAGTTGGGGAATTTATTTGTTATTTTTTGTAATAAAATGATAATAAATCATTGAACCCTTCTGTCTACTCAACTCATATAAAATCAATTTATTTTAAATGAATGTAATGGATGTAACACATCTCATACTAAGTTTCAACAACGGATCTCTTGGCTCTCGCATCGATGAAGAACGCAGCGAAATGCGATAAGTAATGTGAATTGCAGAATTCAGTGAATCATCGAATCTTTGAACGCACCTTGCGCTCCTTGGTATTCCTTGGAGCATGCCTGTTTGAGTATCATGAAATCTTCAAAATCAATCTTTTTGTTAACTCAATTAGTTTGATCTTGGTATTGGAGGTCTTTTGCAGCTTCACACCTGCTCCTCTTTGTGTATTAGCTGGATCTCAGTGTTATGCTTGGTTCCACTCAGCGTGATAAATTATCTATCGCTGAGGACACTGTAAAAAGTGGCCAAGGTAAATGCAGATGAACCGCTTCTAATAGTCCATTGACTTGGACACTATTATTATGATCTGATCTCAAATCAGGTAGGACTACCCGCTGAACTTAAGCATA'"
            ]
          },
          "execution_count": 29,
          "metadata": {},
          "output_type": "execute_result"
        }
      ],
      "source": [
        "c=b.replace(\"\\n\",\"\")\n",
        "c"
      ]
    },
    {
      "cell_type": "code",
      "execution_count": null,
      "metadata": {
        "colab": {
          "base_uri": "https://localhost:8080/"
        },
        "id": "AbWBtEfy_AVa",
        "outputId": "a6adbf17-3662-4df9-a705-a82be9c639b1"
      },
      "outputs": [
        {
          "data": {
            "text/plain": [
              "186"
            ]
          },
          "execution_count": 30,
          "metadata": {},
          "output_type": "execute_result"
        }
      ],
      "source": [
        "c.count('A')"
      ]
    },
    {
      "cell_type": "markdown",
      "metadata": {
        "id": "x2-LvIHMEuJj"
      },
      "source": [
        "RANDOM NUMBERS GUESS"
      ]
    },
    {
      "cell_type": "code",
      "execution_count": null,
      "metadata": {
        "colab": {
          "base_uri": "https://localhost:8080/"
        },
        "id": "DKm__JLp_Jg3",
        "outputId": "f0abeb79-5d04-40d5-a506-16062ca2b8ff"
      },
      "outputs": [
        {
          "name": "stdout",
          "output_type": "stream",
          "text": [
            "9\n",
            "Go lower\n",
            "4\n",
            "Go higher\n",
            "6\n",
            "Correct\n",
            "6\n"
          ]
        }
      ],
      "source": [
        "import random\n",
        "from random import randint\n",
        "\n",
        "\n",
        "x = random.randint(1, 10)\n",
        "a=int(input())\n",
        "\n",
        "\n",
        "while a!=x:\n",
        "\n",
        "  if int(a)<x:\n",
        "    print(\"Go higher\")\n",
        "    a=int(input())\n",
        "\n",
        "  \n",
        "  elif int(a)>x:\n",
        "    print(\"Go lower\")\n",
        "    a=int(input())\n",
        "\n",
        "    \n",
        "  elif int(a)>10:\n",
        "    print (\"Invalid\")\n",
        "    a=int(input())\n",
        "\n",
        "\n",
        "print (\"Correct\")\n",
        "\n",
        "\n",
        "\n",
        "\n",
        "\n",
        "print (x)\n"
      ]
    },
    {
      "cell_type": "code",
      "execution_count": null,
      "metadata": {
        "colab": {
          "base_uri": "https://localhost:8080/"
        },
        "id": "V968hNzqN29C",
        "outputId": "4c25f172-d55d-4b89-c249-bab962502ef4"
      },
      "outputs": [
        {
          "name": "stdout",
          "output_type": "stream",
          "text": [
            "Enter number of tries: 50\n",
            "Guess a number between 1 and 100:\n",
            "Enter your guess: 50\n",
            "Too high!\n",
            "Enter your guess: 40\n",
            "Too high!\n",
            "Enter your guess: 30\n",
            "You got it right in 3 tries!\n"
          ]
        }
      ],
      "source": [
        "import random\n",
        "\n",
        "def guess_number(num_tries):\n",
        "    target = random.randint(1, 100) # specify the range of random number\n",
        "    print(\"Guess a number between 1 and 100:\")\n",
        "    for i in range(1, num_tries + 1):\n",
        "        guess = int(input(\"Enter your guess: \"))\n",
        "        if guess == target:\n",
        "            print(\"You got it right in\", i, \"tries!\")\n",
        "            break\n",
        "        elif guess < target:\n",
        "            print(\"Too low!\")\n",
        "        else:\n",
        "            print(\"Too high!\")\n",
        "    if guess != target:\n",
        "        print(\"Sorry, you ran out of tries. The target was\", target)\n",
        "\n",
        "num_tries = int(input(\"Enter number of tries: \"))\n",
        "guess_number(num_tries)\n"
      ]
    },
    {
      "cell_type": "code",
      "execution_count": null,
      "metadata": {
        "colab": {
          "base_uri": "https://localhost:8080/"
        },
        "id": "sxfpQOBvN3IR",
        "outputId": "9578bf65-8d1a-4822-80e8-2a33ba84ca69"
      },
      "outputs": [
        {
          "data": {
            "text/plain": [
              "array([ 1,  3,  5,  7,  9, 11, 13, 15])"
            ]
          },
          "execution_count": 116,
          "metadata": {},
          "output_type": "execute_result"
        }
      ],
      "source": [
        "np.arange(1,16,2)"
      ]
    },
    {
      "cell_type": "code",
      "execution_count": null,
      "metadata": {
        "colab": {
          "base_uri": "https://localhost:8080/"
        },
        "id": "tXPXb0csN5lf",
        "outputId": "86751e63-d3e4-4667-d518-9735836b3685"
      },
      "outputs": [
        {
          "data": {
            "text/plain": [
              "array([ 1.,  2.,  3.,  4.,  5.,  6.,  7.,  8.,  9., 10.])"
            ]
          },
          "execution_count": 126,
          "metadata": {},
          "output_type": "execute_result"
        }
      ],
      "source": [
        "np.linspace(1,10, num=10)"
      ]
    }
  ]
}