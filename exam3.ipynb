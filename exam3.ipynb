{
 "cells": [
  {
   "cell_type": "markdown",
   "id": "95097836",
   "metadata": {},
   "source": [
    "# Programming in Python\n",
    "## Exam: February 8, 2023\n",
    "\n",
    "You can solve the exercises below by using standard Python 3.10 libraries, NumPy, Matplotlib, Pandas, PyMC.\n",
    "You can browse the documentation: [Python](https://docs.python.org/3.10/), [NumPy](https://numpy.org/doc/stable/user/index.html), [Matplotlib](https://matplotlib.org/stable/users/index.html), [Pandas](https://pandas.pydata.org/pandas-docs/stable/user_guide/index.html), [PyMC](https://docs.pymc.io).\n",
    "You can also look at the [slides of the course](https://homes.di.unimi.it/monga/lucidi2223/pyqb00.pdf) or your code on [GitHub](https://github.com).\n",
    "\n",
    "**It is forbidden to communicate with others.**\n",
    "\n",
    "\n",
    "\n"
   ]
  },
  {
   "cell_type": "code",
   "execution_count": null,
   "id": "c4d15a90",
   "metadata": {},
   "outputs": [],
   "source": [
    "import numpy as np\n",
    "import pandas as pd  # type: ignore\n",
    "import matplotlib.pyplot as plt # type: ignore\n",
    "import pymc as pm   # type: ignore\n",
    "import arviz as az   # type: ignore"
   ]
  },
  {
   "cell_type": "markdown",
   "id": "aaf1155d",
   "metadata": {},
   "source": [
    "### Exercise 1 (max 3 points)\n",
    "\n",
    "The file [Plant_data.csv](./Plant_data.csv) (Vesala, Risto, Rikkinen, Aleksi, Pellikka, Petri, Rikkinen, Jouko, & Arppe, Laura. (2023). You eat what you find – local patterns in vegetation structure control diets of African fungus-growing termites [Data set]. https://doi.org/10.5061/dryad.2ngf1vhq0) contains data about a stable isotope values and C/N content in for some plants under examination.\n",
    "\n",
    "- Site: study site where the plant sample was collected from (Maktau or Sanctuary)\n",
    "- Plant_type: C3 or C4 photosynthesizing plant corresponding trees/shrubs and savanna grasses, respectively\n",
    "- Plant_part: plant part that was analyzed\n",
    "- Species: name of the studied plant\n",
    "- d13C: d13C mean of the analyzed sample (in cases where standard deviation is reported, value is average of two replicate measurements)\n",
    "- d13C_sd: standard deviation of two replicate measurements (d13C) of the same sample (NA means that the sample was measured only once)\n",
    "- C_cont: carbon content (%, w/w) of the analyzed sample (in cases where standard deviation is reported, value is average of two replicate measurements)\n",
    "- C_cont_sd: standard deviation of two replicate measurements (C_cont) of the same sample (NA means that the sample was measured only once)\n",
    "- d15N: d15N mean of the analyzed sample (in cases where standard deviation is reported, value is average of two replicate measurements)\n",
    "- d15N_sd: standard deviation of two replicate measurements (d15N) of the same sample (NA means that the sample was measured only once)\n",
    "- N_cont: nitrogen content (%, w/w) of the analyzed sample (in cases where standard deviation is reported, value is average of two replicate measurements)\n",
    "- N_cont_sd: standard deviation of two replicate measurements (N_cont) of the same sample (NA means that the sample was measured only once)\n",
    "\n",
    "\n",
    "Load the data in a pandas dataframe and make a `bool` column `wooden` which is `True` iff the plant part is \"wood\" or \"bark\"."
   ]
  },
  {
   "cell_type": "code",
   "execution_count": null,
   "id": "088a917e",
   "metadata": {},
   "outputs": [],
   "source": [
    "#import csv\n",
    "data=pd.read_csv(\"Plant_data.csv\", delimiter=';')\n",
    "#print(data)"
   ]
  },
  {
   "cell_type": "code",
   "execution_count": null,
   "id": "0be58db7",
   "metadata": {},
   "outputs": [],
   "source": [
    "#create a boolean column\n",
    "data['wooden'] = data['Plant_part'].isin(['wood', 'bark'])\n",
    "\n",
    "#print(data[['Plant_part','wooden']])"
   ]
  },
  {
   "cell_type": "markdown",
   "id": "3ff5761a",
   "metadata": {},
   "source": [
    "### Exercise 2 (max 6 points)\n",
    "\n",
    "Define a proper Gaussian function and plot the Gaussians defined by all the pairs d15N (mean), d15N_sd (standard deviation). If the standard deviation is NA ignore the line: in total you should have 18 plots. Remember that a Gaussian with mean $\\mu$ and standard deviation $\\sigma$ is defined as:\n",
    "\n",
    "\n",
    "$g(x) = \\frac{1}{\\sigma\\sqrt{2\\pi}} \\exp\\left( -\\frac{1}{2} \\frac{(x - \\mu)^2}{\\sigma^2} \\right)$\n"
   ]
  },
  {
   "cell_type": "code",
   "execution_count": null,
   "id": "3c134fce",
   "metadata": {},
   "outputs": [],
   "source": [
    "import math\n",
    "def gaussian(x, mean, std_dev):\n",
    "    if std_dev == 0:\n",
    "        return 0\n",
    "    num = math.exp(-((x - mean)**2) / (2 * (std_dev**2)))\n",
    "    denom = math.sqrt(2 * math.pi) * std_dev\n",
    "    return num / denom\n",
    "   \n",
    "# Drop rows with NaN values\n",
    "data_new= data.dropna(subset=['d15N', 'd15N_sd'])\n",
    "\n",
    "# Loop over rows and plot Gaussian distributions\n",
    "\n",
    "for index, row in data_new.iterrows():\n",
    "    \n",
    "        mean = row['d15N']\n",
    "        std_dev = row['d15N_sd']\n",
    "\n",
    "        \n",
    "        if std_dev == 0:\n",
    "            plt.axvline(x=mean, color='black', linewidth=1)\n",
    "\n",
    "        else:\n",
    "            x_values = np.linspace(mean - 4*std_dev, mean + 4*std_dev, 100)\n",
    "            y_values = [gaussian(x, mean, std_dev) for x in x_values]\n",
    "            \n",
    "            \n",
    "            plt.plot(x_values, y_values)\n",
    "        plt.title('Mean = {}, Standard Deviation = {}'.format(mean, std_dev))\n",
    "        plt.xlabel('d15N')\n",
    "        plt.ylabel('Probability Density')\n",
    "        plt.show()"
   ]
  },
  {
   "cell_type": "markdown",
   "id": "f11303e2",
   "metadata": {},
   "source": [
    "### Exercise 3 (max 6 points)\n",
    "\n",
    "Define a function `secret_sauce` that takes a plant type (a string), a d13C (a float) and percentage (a float between 0 and 1): the result should be the percentage applied to d13C if the plant type is \"C3\" and (1 - percentage) of d13C if the plant type is \"C4\". For example, secret_sauce(\"C3\", 30, .1) should be 3.0, and secret_sauce(\"C4\", 30, .1) should be 27.0. \n",
    "\n",
    "To get the full marks, you should declare correctly the type hints and add a test within a doctest string."
   ]
  },
  {
   "cell_type": "code",
   "execution_count": null,
   "id": "4d455fe5",
   "metadata": {},
   "outputs": [],
   "source": [
    "data"
   ]
  },
  {
   "cell_type": "code",
   "execution_count": null,
   "id": "0ee296c3",
   "metadata": {},
   "outputs": [],
   "source": [
    "from typing import Tuple #for typehints and docstring\n",
    "\n",
    "def secret_sauce(Plant_type:'str', d13C:'float', percentage:'float' )->float:\n",
    "    \n",
    "    \n",
    "    \"\"\"Return the secret_sauce percentage of d13C.\n",
    "    >>> abs(secret_sauce(\"C3\", 30, .1) - 3.0) < 10e-5\n",
    "    True\n",
    "    >>> abs(secret_sauce(\"C4\", 30, .1) - 27.0) < 10e-5\n",
    "    True\n",
    "    \"\"\"\n",
    "    assert 0 <= percentage <= 1\n",
    "    if Plant_type=='C3':\n",
    "        return d13C*percentage\n",
    "    else:\n",
    "        return (d13C-d13C*percentage)\n"
   ]
  },
  {
   "cell_type": "code",
   "execution_count": null,
   "id": "43f7baae",
   "metadata": {},
   "outputs": [],
   "source": [
    "secret_sauce('C3', 30, 0.1)\n",
    "#secret_sauce('C4', 30, 0.1)"
   ]
  },
  {
   "cell_type": "markdown",
   "id": "ba2a201d",
   "metadata": {},
   "source": [
    "### Exercise 4 (max 4 points)\n",
    "\n",
    "Add a column to the data with the `secret_sauce` computed in the previous exercise, using `d13C` and `C_cont` as the percentage (scale it properly!).\n",
    "\n",
    "To get the full marks avoid the use of explicit loops."
   ]
  },
  {
   "cell_type": "code",
   "execution_count": null,
   "id": "0b59ee11",
   "metadata": {},
   "outputs": [],
   "source": [
    "data['secret_sauce'] = data.apply(lambda row: secret_sauce(row['Plant_type'], row['d13C'], row['C_cont']/100),\n",
    "                                      axis=1)\n",
    "\n",
    "data.head()"
   ]
  },
  {
   "cell_type": "markdown",
   "id": "ba4ac50d",
   "metadata": {},
   "source": [
    "### Exercise 5 (max 2 points)\n",
    "\n",
    "Print the mean d15N for each type of plant part. "
   ]
  },
  {
   "cell_type": "code",
   "execution_count": null,
   "id": "a156846c",
   "metadata": {
    "lines_to_next_cell": 2
   },
   "outputs": [],
   "source": [
    "data.groupby('Plant_part')['d15N'].mean()"
   ]
  },
  {
   "cell_type": "markdown",
   "id": "fbd342c8",
   "metadata": {},
   "source": [
    "### Exercise 6 (max 3 points)\n",
    "\n",
    "Make a scatter plot of `d13C` vs. `d15N`, using different colors for each plant part."
   ]
  },
  {
   "cell_type": "code",
   "execution_count": null,
   "id": "60d074bd",
   "metadata": {},
   "outputs": [],
   "source": [
    "fig, ax = plt.subplots()\n",
    "\n",
    "\n",
    "for p in data['Plant_part'].unique():\n",
    "    pp = data[data['Plant_part'] == p]\n",
    "    ax.scatter(pp['d13C'], pp['d15N'], label=p)\n",
    "ax.set_xlabel('d13C')\n",
    "ax.set_ylabel('d15N')\n",
    "_ = fig.legend()"
   ]
  },
  {
   "cell_type": "markdown",
   "id": "2a1e1a0d",
   "metadata": {},
   "source": [
    "### Exercise 7 (max 3 points)\n",
    "\n",
    "Compute the mean and the standard deviation of the sum of `d13C` and `d15N` when taking into account only the acaciae (all the types included in the data)."
   ]
  },
  {
   "cell_type": "code",
   "execution_count": null,
   "id": "5c8db2e9",
   "metadata": {},
   "outputs": [],
   "source": [
    "pp = data[data['Species'].str.contains('Acacia')]\n",
    "\n",
    "(pp['d13C'] + pp['d15N']).describe()[['mean', 'std']]"
   ]
  },
  {
   "cell_type": "markdown",
   "id": "f1e5f16e",
   "metadata": {},
   "source": [
    "### Exercise 8 (max 6 points)\n",
    "\n",
    "Consider this statistical model:\n",
    "\n",
    "- a parameter $\\alpha$ is normally distributed with mean 0 and standard deviation 5\n",
    "- a parameter $\\beta$ is normally distributed with mean 0 and standard deviation 5\n",
    "- $\\sigma$ is exponentially distributed with $\\lambda = 1$\n",
    "- the observed `N_cont` is normally distributed with a mean given by $\\alpha + \\beta\\cdot C$, where $C$ is the corresponding `C_cont`\n",
    "\n",
    "Code this model with pymc, sample the model, and plot the summary of the resulting estimation by using `az.plot_posterior`.\n",
    "\n",
    "\n",
    "\n"
   ]
  },
  {
   "cell_type": "code",
   "execution_count": null,
   "id": "cf4b4ffa",
   "metadata": {
    "lines_to_next_cell": 0
   },
   "outputs": [],
   "source": [
    "with pm.Model():\n",
    "\n",
    "    a = pm.Normal('alpha', 0, 5)\n",
    "    b = pm.Normal('beta', 0, 5)\n",
    "    s = pm.Exponential('sigma', 1)\n",
    "\n",
    "    pm.Normal('N_cont', a + b*data['C_cont'], s, observed=data['N_cont'])\n",
    "    idata = pm.sample()\n",
    "\n",
    "\n",
    "_ = az.plot_posterior(idata)"
   ]
  },
  {
   "cell_type": "code",
   "execution_count": null,
   "id": "af4c3191",
   "metadata": {},
   "outputs": [],
   "source": []
  },
  {
   "cell_type": "code",
   "execution_count": null,
   "id": "ed23addc",
   "metadata": {},
   "outputs": [],
   "source": []
  }
 ],
 "metadata": {
  "kernelspec": {
   "display_name": "Python 3 (ipykernel)",
   "language": "python",
   "name": "python3"
  },
  "language_info": {
   "codemirror_mode": {
    "name": "ipython",
    "version": 3
   },
   "file_extension": ".py",
   "mimetype": "text/x-python",
   "name": "python",
   "nbconvert_exporter": "python",
   "pygments_lexer": "ipython3",
   "version": "3.9.13"
  }
 },
 "nbformat": 4,
 "nbformat_minor": 5
}
